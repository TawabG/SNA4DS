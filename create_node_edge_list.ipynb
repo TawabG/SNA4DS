{
 "cells": [
  {
   "cell_type": "code",
   "execution_count": 1,
   "metadata": {},
   "outputs": [],
   "source": [
    "import pandas as pd"
   ]
  },
  {
   "cell_type": "code",
   "execution_count": 2,
   "metadata": {},
   "outputs": [],
   "source": [
    "# import data\n",
    "ratings = pd.read_csv(\"data/reviews_winter_2001_2002.csv\")\n"
   ]
  },
  {
   "cell_type": "code",
   "execution_count": 3,
   "metadata": {},
   "outputs": [
    {
     "data": {
      "text/plain": [
       "CustomerID\n",
       "921239        1\n",
       "2224065       1\n",
       "1014797       1\n",
       "2223516       1\n",
       "2222868       1\n",
       "           ... \n",
       "1639792    1068\n",
       "76196      1072\n",
       "1146000    1351\n",
       "1272379    2001\n",
       "1461435    2839\n",
       "Name: Rating, Length: 21062, dtype: int64"
      ]
     },
     "execution_count": 3,
     "metadata": {},
     "output_type": "execute_result"
    }
   ],
   "source": [
    "# See number of ratings that users did\n",
    "ratings_per_userID = ratings.groupby(\"CustomerID\").count().sort_values(\"Rating\")['Rating']\n",
    "#ratings_per_userID.hist(bins=[0,5,10,15,20])\n",
    "ratings_per_userID"
   ]
  },
  {
   "cell_type": "code",
   "execution_count": 4,
   "metadata": {},
   "outputs": [
    {
     "data": {
      "text/plain": [
       "17726"
      ]
     },
     "execution_count": 4,
     "metadata": {},
     "output_type": "execute_result"
    }
   ],
   "source": [
    "# the number of users still left after selecting users that did at least 5 ratings\n",
    "sum(ratings_per_userID >= 5)"
   ]
  },
  {
   "cell_type": "code",
   "execution_count": 5,
   "metadata": {},
   "outputs": [],
   "source": [
    "# Filter users with multiple ratings done\n",
    "user_id_with_more_than_5_ratings = ratings_per_userID[ratings_per_userID >= 5].index\n",
    "user_id_with_more_than_5_ratings = set(user_id_with_more_than_5_ratings)\n",
    "ratings_for_active_users = ratings[ratings[\"CustomerID\"].isin(user_id_with_more_than_5_ratings)]\n"
   ]
  },
  {
   "cell_type": "code",
   "execution_count": 6,
   "metadata": {},
   "outputs": [
    {
     "data": {
      "text/plain": [
       "CustomerID\n",
       "2170076       5\n",
       "1298009       5\n",
       "2591322       5\n",
       "598250        5\n",
       "597735        5\n",
       "           ... \n",
       "1639792    1068\n",
       "76196      1072\n",
       "1146000    1351\n",
       "1272379    2001\n",
       "1461435    2839\n",
       "Name: Rating, Length: 17726, dtype: int64"
      ]
     },
     "execution_count": 6,
     "metadata": {},
     "output_type": "execute_result"
    }
   ],
   "source": [
    "# See number of ratings that users did\n",
    "ratings_per_userID = ratings_for_active_users.groupby(\"CustomerID\").count().sort_values(\"Rating\")['Rating']\n",
    "#ratings_per_userID.hist(bins=[0,5,10,15,20])\n",
    "ratings_per_userID"
   ]
  },
  {
   "cell_type": "code",
   "execution_count": 7,
   "metadata": {},
   "outputs": [
    {
     "data": {
      "text/plain": [
       "Movie_Id\n",
       "13140       1\n",
       "7803        1\n",
       "14908       1\n",
       "16837       1\n",
       "7819        1\n",
       "         ... \n",
       "16377    4991\n",
       "13728    5034\n",
       "571      5487\n",
       "14312    5496\n",
       "12918    5772\n",
       "Name: Rating, Length: 6369, dtype: int64"
      ]
     },
     "execution_count": 7,
     "metadata": {},
     "output_type": "execute_result"
    }
   ],
   "source": [
    "ratings_per_movie_id = ratings_for_active_users.groupby(\"Movie_Id\").count().sort_values(\"Rating\")['Rating']\n",
    "ratings_per_movie_id\n",
    "#read_csv(\"small_test_selection_reviews_unique.csv\")\n",
    "#extra_small_correct_reviews_selection = ratings_for_active_users.loc[:, ['CustomerID','Rating','Date','Movie_Id']]\n",
    "#extra_small_correct_reviews_selection['Rating'] = extra_small_correct_reviews_selection['Rating'].astype(int)\n",
    "# extra_small_correct_reviews_selection.to_csv(\"small_test_selection_reviews_unique.csv\", index=False)"
   ]
  },
  {
   "cell_type": "code",
   "execution_count": 8,
   "metadata": {},
   "outputs": [],
   "source": [
    "# Filter users with multiple ratings done\n",
    "movie_id_with_more_than_5_ratings = ratings_per_movie_id[ratings_per_movie_id >= 5].index\n",
    "movie_id_with_more_than_5_ratings = set(movie_id_with_more_than_5_ratings)\n",
    "ratings_for_popular_movies = ratings_for_active_users[ratings_for_active_users[\"Movie_Id\"].isin(movie_id_with_more_than_5_ratings)]"
   ]
  },
  {
   "cell_type": "code",
   "execution_count": 9,
   "metadata": {},
   "outputs": [
    {
     "data": {
      "text/plain": [
       "Movie_Id\n",
       "12932       5\n",
       "8633        5\n",
       "11462       5\n",
       "8611        5\n",
       "3513        5\n",
       "         ... \n",
       "16377    4991\n",
       "13728    5034\n",
       "571      5487\n",
       "14312    5496\n",
       "12918    5772\n",
       "Name: Rating, Length: 4476, dtype: int64"
      ]
     },
     "execution_count": 9,
     "metadata": {},
     "output_type": "execute_result"
    }
   ],
   "source": [
    "ratings_per_movie_id = ratings_for_popular_movies.groupby(\"Movie_Id\").count().sort_values(\"Rating\")['Rating']\n",
    "ratings_per_movie_id"
   ]
  },
  {
   "cell_type": "code",
   "execution_count": 10,
   "metadata": {},
   "outputs": [
    {
     "data": {
      "text/plain": [
       "Movie_Id\n",
       "12932       5\n",
       "8633        5\n",
       "11462       5\n",
       "8611        5\n",
       "3513        5\n",
       "         ... \n",
       "16377    4991\n",
       "13728    5034\n",
       "571      5487\n",
       "14312    5496\n",
       "12918    5772\n",
       "Name: Rating, Length: 4476, dtype: int64"
      ]
     },
     "execution_count": 10,
     "metadata": {},
     "output_type": "execute_result"
    }
   ],
   "source": [
    "ratings_per_movie_id = ratings_for_popular_movies.groupby(\"Movie_Id\").count().sort_values(\"Rating\")['Rating']\n",
    "ratings_per_movie_id"
   ]
  },
  {
   "cell_type": "code",
   "execution_count": 11,
   "metadata": {},
   "outputs": [],
   "source": [
    "# Creating Edge lists\n",
    "def create_edge_lists(ratings):\n",
    "    edge_list = ratings.loc[:,[\"CustomerID\", \"Movie_Id\"]]\n",
    "    edge_list.rename(columns={'CustomerID': 'customer',\n",
    "                    'Movie_Id': 'movie'},\n",
    "            inplace=True, errors='raise')\n",
    "\n",
    "\n",
    "    edge_list_with_ratings = ratings.loc[:,[\"CustomerID\", \"Movie_Id\", \"Rating\"]]\n",
    "    edge_list_with_ratings.rename(columns={'CustomerID': 'customer',\n",
    "                    'Movie_Id': 'movie', \n",
    "                    'Rating':'weight'},\n",
    "            inplace=True, errors='raise')\n",
    "    return edge_list,edge_list_with_ratings\n",
    "\n",
    "complete_edge_list, complete_edge_list_with_ratings = create_edge_lists(ratings_for_popular_movies)\n",
    "complete_edge_list.to_csv('complete_edge_list_without_rating_weights.csv', index=False)\n",
    "complete_edge_list_with_ratings.to_csv('complete_edge_list_with_rating_weights.csv', index=False)\n"
   ]
  },
  {
   "cell_type": "code",
   "execution_count": 12,
   "metadata": {},
   "outputs": [],
   "source": [
    "# Creating Node list\n",
    "def create_node_list(edge_list, movie_info_df):\n",
    "    customer_ids = edge_list[\"customer\"].unique()\n",
    "    movie_ids = edge_list[\"movie\"].unique()\n",
    "\n",
    "    node_list_customers = pd.DataFrame(customer_ids, columns=['id'])\n",
    "    node_list_customers[\"type\"] = 'customer'\n",
    "\n",
    "    node_list_movies = pd.DataFrame(movie_ids, columns=['id'])\n",
    "    node_list_movies[\"type\"] = 'movie'\n",
    "\n",
    "    # attach movie attributes to corresponding movies\n",
    "    attribute_node_list_movies = node_list_movies.merge(movie_info_df, left_on='id', right_on= 'movie', how='left', indicator=True)\n",
    "\n",
    "    node_list = node_list_customers.append(node_list_movies)\n",
    "    node_list_attributes = node_list_customers.append(attribute_node_list_movies)\n",
    "    return node_list, node_list_attributes\n",
    "\n",
    "\n",
    "movie_info_df = pd.read_csv(\"../movie_titles.csv\", error_bad_lines=False, encoding = 'latin1', names=['movie', 'publish_year', 'title'])\n",
    "node_list, node_list_attributes = create_node_list(edge_list=complete_edge_list_with_ratings, movie_info_df=movie_info_df)\n"
   ]
  },
  {
   "cell_type": "code",
   "execution_count": 13,
   "metadata": {},
   "outputs": [],
   "source": [
    "#node_list_attributes.to_csv('small_node_list_with_attributes.csv')"
   ]
  },
  {
   "cell_type": "code",
   "execution_count": 14,
   "metadata": {},
   "outputs": [
    {
     "data": {
      "text/html": [
       "<div>\n",
       "<style scoped>\n",
       "    .dataframe tbody tr th:only-of-type {\n",
       "        vertical-align: middle;\n",
       "    }\n",
       "\n",
       "    .dataframe tbody tr th {\n",
       "        vertical-align: top;\n",
       "    }\n",
       "\n",
       "    .dataframe thead th {\n",
       "        text-align: right;\n",
       "    }\n",
       "</style>\n",
       "<table border=\"1\" class=\"dataframe\">\n",
       "  <thead>\n",
       "    <tr style=\"text-align: right;\">\n",
       "      <th></th>\n",
       "      <th>id</th>\n",
       "      <th>type</th>\n",
       "    </tr>\n",
       "  </thead>\n",
       "  <tbody>\n",
       "    <tr>\n",
       "      <th>0</th>\n",
       "      <td>1195392</td>\n",
       "      <td>customer</td>\n",
       "    </tr>\n",
       "    <tr>\n",
       "      <th>1</th>\n",
       "      <td>1325977</td>\n",
       "      <td>customer</td>\n",
       "    </tr>\n",
       "    <tr>\n",
       "      <th>2</th>\n",
       "      <td>752568</td>\n",
       "      <td>customer</td>\n",
       "    </tr>\n",
       "    <tr>\n",
       "      <th>3</th>\n",
       "      <td>1427482</td>\n",
       "      <td>customer</td>\n",
       "    </tr>\n",
       "    <tr>\n",
       "      <th>4</th>\n",
       "      <td>1144950</td>\n",
       "      <td>customer</td>\n",
       "    </tr>\n",
       "    <tr>\n",
       "      <th>...</th>\n",
       "      <td>...</td>\n",
       "      <td>...</td>\n",
       "    </tr>\n",
       "    <tr>\n",
       "      <th>4471</th>\n",
       "      <td>12002</td>\n",
       "      <td>movie</td>\n",
       "    </tr>\n",
       "    <tr>\n",
       "      <th>4472</th>\n",
       "      <td>13232</td>\n",
       "      <td>movie</td>\n",
       "    </tr>\n",
       "    <tr>\n",
       "      <th>4473</th>\n",
       "      <td>15272</td>\n",
       "      <td>movie</td>\n",
       "    </tr>\n",
       "    <tr>\n",
       "      <th>4474</th>\n",
       "      <td>17574</td>\n",
       "      <td>movie</td>\n",
       "    </tr>\n",
       "    <tr>\n",
       "      <th>4475</th>\n",
       "      <td>13763</td>\n",
       "      <td>movie</td>\n",
       "    </tr>\n",
       "  </tbody>\n",
       "</table>\n",
       "<p>22202 rows × 2 columns</p>\n",
       "</div>"
      ],
      "text/plain": [
       "           id      type\n",
       "0     1195392  customer\n",
       "1     1325977  customer\n",
       "2      752568  customer\n",
       "3     1427482  customer\n",
       "4     1144950  customer\n",
       "...       ...       ...\n",
       "4471    12002     movie\n",
       "4472    13232     movie\n",
       "4473    15272     movie\n",
       "4474    17574     movie\n",
       "4475    13763     movie\n",
       "\n",
       "[22202 rows x 2 columns]"
      ]
     },
     "execution_count": 14,
     "metadata": {},
     "output_type": "execute_result"
    }
   ],
   "source": [
    "node_list"
   ]
  },
  {
   "cell_type": "code",
   "execution_count": null,
   "metadata": {},
   "outputs": [],
   "source": []
  }
 ],
 "metadata": {
  "interpreter": {
   "hash": "31f2aee4e71d21fbe5cf8b01ff0e069b9275f58929596ceb00d14d90e3e16cd6"
  },
  "kernelspec": {
   "display_name": "Python 3.6.9 64-bit",
   "name": "python3"
  },
  "language_info": {
   "codemirror_mode": {
    "name": "ipython",
    "version": 3
   },
   "file_extension": ".py",
   "mimetype": "text/x-python",
   "name": "python",
   "nbconvert_exporter": "python",
   "pygments_lexer": "ipython3",
   "version": "3.6.9"
  },
  "orig_nbformat": 4
 },
 "nbformat": 4,
 "nbformat_minor": 2
}
