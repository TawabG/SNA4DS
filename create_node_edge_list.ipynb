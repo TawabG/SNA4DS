{
 "cells": [
  {
   "cell_type": "code",
   "execution_count": 93,
   "metadata": {},
   "outputs": [],
   "source": [
    "import pandas as pd"
   ]
  },
  {
   "cell_type": "code",
   "execution_count": 94,
   "metadata": {},
   "outputs": [
    {
     "data": {
      "text/html": [
       "<div>\n",
       "<style scoped>\n",
       "    .dataframe tbody tr th:only-of-type {\n",
       "        vertical-align: middle;\n",
       "    }\n",
       "\n",
       "    .dataframe tbody tr th {\n",
       "        vertical-align: top;\n",
       "    }\n",
       "\n",
       "    .dataframe thead th {\n",
       "        text-align: right;\n",
       "    }\n",
       "</style>\n",
       "<table border=\"1\" class=\"dataframe\">\n",
       "  <thead>\n",
       "    <tr style=\"text-align: right;\">\n",
       "      <th></th>\n",
       "      <th>Unnamed: 0</th>\n",
       "      <th>CustomerID</th>\n",
       "      <th>Rating</th>\n",
       "      <th>Date</th>\n",
       "      <th>Movie_Id</th>\n",
       "    </tr>\n",
       "  </thead>\n",
       "  <tbody>\n",
       "    <tr>\n",
       "      <th>0</th>\n",
       "      <td>1</td>\n",
       "      <td>1488844</td>\n",
       "      <td>3.0</td>\n",
       "      <td>2005-09-06</td>\n",
       "      <td>1</td>\n",
       "    </tr>\n",
       "    <tr>\n",
       "      <th>1</th>\n",
       "      <td>2</td>\n",
       "      <td>822109</td>\n",
       "      <td>5.0</td>\n",
       "      <td>2005-05-13</td>\n",
       "      <td>1</td>\n",
       "    </tr>\n",
       "    <tr>\n",
       "      <th>2</th>\n",
       "      <td>3</td>\n",
       "      <td>885013</td>\n",
       "      <td>4.0</td>\n",
       "      <td>2005-10-19</td>\n",
       "      <td>1</td>\n",
       "    </tr>\n",
       "    <tr>\n",
       "      <th>3</th>\n",
       "      <td>4</td>\n",
       "      <td>30878</td>\n",
       "      <td>4.0</td>\n",
       "      <td>2005-12-26</td>\n",
       "      <td>1</td>\n",
       "    </tr>\n",
       "    <tr>\n",
       "      <th>4</th>\n",
       "      <td>5</td>\n",
       "      <td>823519</td>\n",
       "      <td>3.0</td>\n",
       "      <td>2004-05-03</td>\n",
       "      <td>1</td>\n",
       "    </tr>\n",
       "  </tbody>\n",
       "</table>\n",
       "</div>"
      ],
      "text/plain": [
       "   Unnamed: 0  CustomerID  Rating        Date  Movie_Id\n",
       "0           1     1488844     3.0  2005-09-06         1\n",
       "1           2      822109     5.0  2005-05-13         1\n",
       "2           3      885013     4.0  2005-10-19         1\n",
       "3           4       30878     4.0  2005-12-26         1\n",
       "4           5      823519     3.0  2004-05-03         1"
      ]
     },
     "execution_count": 94,
     "metadata": {},
     "output_type": "execute_result"
    }
   ],
   "source": [
    "# import data\n",
    "ratings = pd.read_csv(\"first_150_movie_ratings.csv\")\n",
    "ratings.head()"
   ]
  },
  {
   "cell_type": "code",
   "execution_count": 95,
   "metadata": {},
   "outputs": [
    {
     "data": {
      "text/plain": [
       "<AxesSubplot:>"
      ]
     },
     "execution_count": 95,
     "metadata": {},
     "output_type": "execute_result"
    },
    {
     "data": {
      "image/png": "[encoded data removed]",
      "text/plain": [
       "<Figure size 432x288 with 1 Axes>"
      ]
     },
     "metadata": {
      "needs_background": "light"
     },
     "output_type": "display_data"
    }
   ],
   "source": [
    "# See number of ratings that users did\n",
    "ratings_per_userID = ratings.groupby(\"CustomerID\").count().sort_values(\"Rating\")['Rating']\n",
    "ratings_per_userID.hist(bins=[0,5,10,15,20])"
   ]
  },
  {
   "cell_type": "code",
   "execution_count": 96,
   "metadata": {},
   "outputs": [
    {
     "data": {
      "text/plain": [
       "25673"
      ]
     },
     "execution_count": 96,
     "metadata": {},
     "output_type": "execute_result"
    }
   ],
   "source": [
    "# the number of users still left after selecting users that did at least 5 ratings\n",
    "sum(ratings_per_userID >= 5)"
   ]
  },
  {
   "cell_type": "code",
   "execution_count": 97,
   "metadata": {},
   "outputs": [],
   "source": [
    "# Creating Edge list\n",
    "\n",
    "# Filter users with multiple ratings done\n",
    "user_id_with_more_than_5_ratings = ratings_per_userID[ratings_per_userID >= 5].index\n",
    "user_id_with_more_than_5_ratings = set(user_id_with_more_than_5_ratings)\n",
    "ratings_for_active_users = ratings[ratings[\"CustomerID\"].isin(user_id_with_more_than_5_ratings)]\n",
    "\n",
    "# Select ratings of users with at least 5 ratings\n",
    "connections = ratings_for_active_users[ratings_for_active_users[\"Rating\"] >= 5]\n",
    "\n",
    "edge_list = connections.loc[:,[\"CustomerID\", \"Movie_Id\"]]\n",
    "edge_list.rename(columns={'CustomerID': 'customer',\n",
    "                   'Movie_Id': 'movie'},\n",
    "          inplace=True, errors='raise')\n"
   ]
  },
  {
   "cell_type": "code",
   "execution_count": 98,
   "metadata": {},
   "outputs": [],
   "source": [
    "# Creating Node list\n",
    "customer_ids = edge_list[\"customer\"].unique()\n",
    "movie_ids = edge_list[\"movie\"].unique()\n",
    "\n",
    "node_list_customers = pd.DataFrame(customer_ids, columns=['id'])\n",
    "node_list_customers[\"type\"] = 'customer'\n",
    "\n",
    "node_list_movies = pd.DataFrame(movie_ids, columns=['id'])\n",
    "node_list_movies[\"type\"] = 'movie'\n",
    "\n",
    "node_list = node_list_customers.append(node_list_movies)"
   ]
  },
  {
   "cell_type": "code",
   "execution_count": 100,
   "metadata": {},
   "outputs": [],
   "source": [
    "node_list.to_csv('node_list.csv', index=False)\n",
    "edge_list.to_csv('edge_list.csv', index=False)"
   ]
  }
 ],
 "metadata": {
  "interpreter": {
   "hash": "31f2aee4e71d21fbe5cf8b01ff0e069b9275f58929596ceb00d14d90e3e16cd6"
  },
  "kernelspec": {
   "display_name": "Python 3.6.9 64-bit",
   "name": "python3"
  },
  "language_info": {
   "codemirror_mode": {
    "name": "ipython",
    "version": 3
   },
   "file_extension": ".py",
   "mimetype": "text/x-python",
   "name": "python",
   "nbconvert_exporter": "python",
   "pygments_lexer": "ipython3",
   "version": "3.6.9"
  },
  "orig_nbformat": 4
 },
 "nbformat": 4,
 "nbformat_minor": 2
}
